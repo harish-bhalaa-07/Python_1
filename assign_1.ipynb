{
 "cells": [
  {
   "cell_type": "markdown",
   "id": "51cf7066",
   "metadata": {},
   "source": [
    "# Check if the number is an Armstrong number or not...?"
   ]
  },
  {
   "cell_type": "code",
   "execution_count": 3,
   "id": "a743d1bb",
   "metadata": {},
   "outputs": [
    {
     "name": "stdout",
     "output_type": "stream",
     "text": [
      "Enter a integer value:153\n",
      "The number is armstrong number\n"
     ]
    }
   ],
   "source": [
    "n = int(input(\"Enter a integer value:\"))\n",
    "sum = 0\n",
    "temp = n\n",
    "while temp>0:\n",
    "    dig = temp % 10\n",
    "    sum += dig **3\n",
    "    temp //= 10\n",
    "\n",
    "if sum == n:\n",
    "    print(\"The number is armstrong number\")\n",
    "else:\n",
    "    print(\"It is not a armstrong number\")"
   ]
  },
  {
   "cell_type": "markdown",
   "id": "abc9b0f5",
   "metadata": {},
   "source": [
    "# Write a function called show_stars(rows). If rows are 5, it should print the following\n",
    "#  *\n",
    "#  **\n",
    "#  ***\n",
    "#  ****\n",
    "#  *****"
   ]
  },
  {
   "cell_type": "code",
   "execution_count": 5,
   "id": "d899dbd7",
   "metadata": {},
   "outputs": [
    {
     "name": "stdout",
     "output_type": "stream",
     "text": [
      "Enter an integer:5\n",
      "*\n",
      "**\n",
      "***\n",
      "****\n",
      "*****\n"
     ]
    }
   ],
   "source": [
    "m = int(input(\"Enter an integer:\"))\n",
    "for i in range(0,m):\n",
    "    for j in range(0, i+1):\n",
    "        print(\"*\", end='')\n",
    "    print(\"\\r\")"
   ]
  },
  {
   "cell_type": "markdown",
   "id": "9542dba0",
   "metadata": {},
   "source": [
    "# Write a program to remove characters from a string starting from zero up to n and return a new string...?  "
   ]
  },
  {
   "cell_type": "code",
   "execution_count": 13,
   "id": "ce0d4d9d",
   "metadata": {},
   "outputs": [
    {
     "name": "stdout",
     "output_type": "stream",
     "text": [
      "Enter string values123456789\n",
      "The original string is : 123456789\n",
      "Enter the position of the string to remove9\n",
      "The string after removal of i'th character : 12345678\n"
     ]
    }
   ],
   "source": [
    "str_1 = str(input(\"Enter string values\"))\n",
    "print (\"The original string is : \" + str_1)\n",
    "n = int(input(\"Enter the position of the string to remove\"))\n",
    "new_str = str_1[:(n-1)] +  str_1[n:]\n",
    "print (\"The string after removal of i'th character : \" + new_str)"
   ]
  },
  {
   "cell_type": "markdown",
   "id": "d67a5666",
   "metadata": {},
   "source": [
    "# Iterate the given list of numbers and print only those numbers which are divisible by 5..?"
   ]
  },
  {
   "cell_type": "code",
   "execution_count": 1,
   "id": "a361f69f",
   "metadata": {},
   "outputs": [
    {
     "name": "stdout",
     "output_type": "stream",
     "text": [
      "Enter no. of list elements5\n",
      "1\n",
      "5\n",
      "15\n",
      "13\n",
      "20\n",
      "Given list [1, 5, 15, 13, 20]\n",
      "The list is [5, 15, 20]\n"
     ]
    }
   ],
   "source": [
    "x = []\n",
    "n_1 = int(input(\"Enter no. of list elements\"))\n",
    "for i in range(n_1):\n",
    "    x_1 = int(input())\n",
    "    x.append(x_1)\n",
    "x_2 = []\n",
    "def div_5(x):\n",
    "   print(\"Given list\",x)\n",
    "   for i in x:\n",
    "       if i%5 == 0:\n",
    "          x_2.append(i)\n",
    "div_5(x)\n",
    "print(\"The list is\",x_2)"
   ]
  },
  {
   "cell_type": "markdown",
   "id": "a202c7a2",
   "metadata": {},
   "source": [
    "# Print the following pattern\n",
    "# 1\n",
    "# 22\n",
    "# 333\n",
    "# 4444\n",
    "# 55555"
   ]
  },
  {
   "cell_type": "code",
   "execution_count": 1,
   "id": "6c31abb9",
   "metadata": {},
   "outputs": [
    {
     "name": "stdout",
     "output_type": "stream",
     "text": [
      "\n",
      "1 \n",
      "2 2 \n",
      "3 3 3 \n",
      "4 4 4 4 \n",
      "5 5 5 5 5 \n"
     ]
    }
   ],
   "source": [
    "rows = 6\n",
    "for i in range(rows):\n",
    "    for j in range(i):\n",
    "        print(i, end=' ')\n",
    "    print('')\n"
   ]
  },
  {
   "cell_type": "markdown",
   "id": "52a886ac",
   "metadata": {},
   "source": [
    "#   Write a program to check if the given number is a palindrome number"
   ]
  },
  {
   "cell_type": "code",
   "execution_count": 3,
   "id": "388d8c7b",
   "metadata": {},
   "outputs": [
    {
     "name": "stdout",
     "output_type": "stream",
     "text": [
      "Enter number:121\n",
      "The number is a palindrome!\n"
     ]
    }
   ],
   "source": [
    "n_3 = int(input(\"Enter number:\"))\n",
    "temp = n_3\n",
    "rev = 0 \n",
    "while(n_3>0):\n",
    "    dig = n_3 %10\n",
    "    rev = rev*10+dig\n",
    "    n_3 = n_3//10\n",
    "if(temp == rev):\n",
    "    print(\"The number is a palindrome!\")\n",
    "else:\n",
    "    print(\"The number isn't a palindrome!\")"
   ]
  },
  {
   "cell_type": "markdown",
   "id": "eda8bb61",
   "metadata": {},
   "source": [
    "# Python program to interchange first and last elements in a list"
   ]
  },
  {
   "cell_type": "code",
   "execution_count": 6,
   "id": "e0873658",
   "metadata": {},
   "outputs": [
    {
     "name": "stdout",
     "output_type": "stream",
     "text": [
      "Enter an integer :5\n",
      "1\n",
      "2\n",
      "3\n",
      "4\n",
      "5\n",
      "[5, 2, 3, 4, 1]\n"
     ]
    }
   ],
   "source": [
    "def swapList(newList):\n",
    "    size = len(newList)\n",
    "    temp_1 = newList[0]\n",
    "    newList[0] = newList[size - 1]\n",
    "    newList[size - 1] = temp_1\n",
    "    return newList\n",
    "\n",
    "n_4 = int(input(\"Enter an integer :\"))\n",
    "newList = []\n",
    "for i in range(n_4):\n",
    "    c = int(input())\n",
    "    newList.append(c)\n",
    "print(swapList(newList))"
   ]
  },
  {
   "cell_type": "markdown",
   "id": "f41eea8a",
   "metadata": {},
   "source": [
    "#  "
   ]
  },
  {
   "cell_type": "markdown",
   "id": "793594eb",
   "metadata": {},
   "source": [
    "# Python program to swap two elements in a list"
   ]
  },
  {
   "cell_type": "code",
   "execution_count": 4,
   "id": "0fd3e331",
   "metadata": {},
   "outputs": [
    {
     "name": "stdout",
     "output_type": "stream",
     "text": [
      "Enter no of array elements :5\n",
      "1\n",
      "2\n",
      "3\n",
      "4\n",
      "5\n",
      "[3, 2, 1, 4, 5]\n"
     ]
    }
   ],
   "source": [
    "def swapPositions(list, pos1, pos2):\n",
    "     \n",
    "    list[pos1], list[pos2] = list[pos2], list[pos1]\n",
    "    return list\n",
    "\n",
    "List = []\n",
    "n_5 = int(input(\"Enter no of array elements :\"))\n",
    "for i in range(n_5):\n",
    "    n_6 = int(input())\n",
    "    List.append(n_6)\n",
    "pos1, pos2  = 1, 3\n",
    " \n",
    "print(swapPositions(List, pos1-1, pos2-1))"
   ]
  },
  {
   "cell_type": "markdown",
   "id": "1dfa6e5c",
   "metadata": {},
   "source": [
    "# Ways to find length of list"
   ]
  },
  {
   "cell_type": "code",
   "execution_count": 5,
   "id": "81fac004",
   "metadata": {},
   "outputs": [
    {
     "name": "stdout",
     "output_type": "stream",
     "text": [
      "Enter no of array elements :5\n",
      "1\n",
      "2\n",
      "3\n",
      "4\n",
      "5\n"
     ]
    },
    {
     "data": {
      "text/plain": [
       "5"
      ]
     },
     "execution_count": 5,
     "metadata": {},
     "output_type": "execute_result"
    }
   ],
   "source": [
    "List = []\n",
    "n_5 = int(input(\"Enter no of array elements :\"))\n",
    "for i in range(n_5):\n",
    "    n_6 = int(input())\n",
    "    List.append(n_6)\n",
    "len(List)"
   ]
  },
  {
   "cell_type": "markdown",
   "id": "fcbdc7b2",
   "metadata": {},
   "source": [
    "# Maximum of two numbers in Python"
   ]
  },
  {
   "cell_type": "code",
   "execution_count": 6,
   "id": "b897acd6",
   "metadata": {},
   "outputs": [
    {
     "name": "stdout",
     "output_type": "stream",
     "text": [
      "Enter number of elements:5\n",
      "Enter element:23\n",
      "Enter element:12\n",
      "Enter element:43\n",
      "Enter element:54\n",
      "Enter element:67\n",
      "First largest element is: 67\n",
      "Second largest element is: 54\n"
     ]
    }
   ],
   "source": [
    "a=[]\n",
    "n=int(input(\"Enter number of elements:\"))\n",
    "for i in range(1,n+1):\n",
    "    b=int(input(\"Enter element:\"))\n",
    "    a.append(b)\n",
    "a.sort()\n",
    "print(\"First largest element is:\",a[n-1])\n",
    "print(\"Second largest element is:\",a[n-2])"
   ]
  },
  {
   "cell_type": "markdown",
   "id": "d0d3679d",
   "metadata": {},
   "source": [
    "# Minimum of two numbers in Python"
   ]
  },
  {
   "cell_type": "code",
   "execution_count": 8,
   "id": "ad239a69",
   "metadata": {},
   "outputs": [
    {
     "name": "stdout",
     "output_type": "stream",
     "text": [
      "Enter number of elements:5\n",
      "Enter element:12\n",
      "Enter element:13\n",
      "Enter element:14\n",
      "Enter element:15\n",
      "Enter element:16\n",
      "The smallest element is: 13\n",
      "Second smallest element is: 14\n"
     ]
    }
   ],
   "source": [
    "a=[]\n",
    "n=int(input(\"Enter number of elements:\"))\n",
    "for i in range(1,n+1):\n",
    "    b=int(input(\"Enter element:\"))\n",
    "    a.append(b)\n",
    "a.sort()\n",
    "print(\"The smallest element is:\",a[n-(n-1)])\n",
    "print(\"Second smallest element is:\",a[n-(n-2)])"
   ]
  },
  {
   "cell_type": "markdown",
   "id": "28d7da61",
   "metadata": {},
   "source": [
    "#  Python program to check whether the string is Symmetrical or Palindrome"
   ]
  },
  {
   "cell_type": "code",
   "execution_count": 9,
   "id": "ec9b328e",
   "metadata": {},
   "outputs": [
    {
     "name": "stdout",
     "output_type": "stream",
     "text": [
      "amaama string is symmertical\n",
      "amaama string is palindrome\n"
     ]
    }
   ],
   "source": [
    "string = 'amaama'\n",
    "half = int(len(string) / 2)\n",
    " \n",
    "if len(string) % 2 == 0:  \n",
    "    first_str = string[:half]\n",
    "    second_str = string[half:]\n",
    "else:\n",
    "    first_str = string[:half]\n",
    "    second_str = string[half+1:]\n",
    "\n",
    "if first_str == second_str:\n",
    "    print(string, 'string is symmertical')\n",
    "else:\n",
    "    print(string, 'string is not symmertical')\n",
    " \n",
    "if first_str == second_str[::-1]:  \n",
    "    print(string, 'string is palindrome')\n",
    "else:\n",
    "    print(string, 'string is not palindrome')"
   ]
  },
  {
   "cell_type": "markdown",
   "id": "6feafb90",
   "metadata": {},
   "source": [
    "#  Reverse words in a given String in Python"
   ]
  },
  {
   "cell_type": "code",
   "execution_count": 10,
   "id": "dbbf3ba9",
   "metadata": {},
   "outputs": [
    {
     "name": "stdout",
     "output_type": "stream",
     "text": [
      "Enter a string value :harish is a good boy\n",
      "boy good a is harish\n"
     ]
    }
   ],
   "source": [
    "string = str(input(\"Enter a string value :\"))\n",
    "s = string.split()[::-1]\n",
    "l = []\n",
    "for i in s:\n",
    "    l.append(i)\n",
    "print(\" \".join(l))\n"
   ]
  },
  {
   "cell_type": "markdown",
   "id": "9aeaaa4a",
   "metadata": {},
   "source": [
    "#   Ways to remove i’th character from string in Python"
   ]
  },
  {
   "cell_type": "code",
   "execution_count": 1,
   "id": "b13fa87f",
   "metadata": {},
   "outputs": [
    {
     "name": "stdout",
     "output_type": "stream",
     "text": [
      "The original string is : python interpreter\n",
      "Which character you want to remove ?y\n",
      "The string after removal of i'th character(works) : pthon interpreter\n"
     ]
    }
   ],
   "source": [
    "test_str = \"python interpreter\"\n",
    "print (\"The original string is : \" + test_str)\n",
    "z = str(input(\"Which character you want to remove ?\"))\n",
    "new_str = test_str.replace(z, '', 1)\n",
    "print (\"The string after removal of i'th character(works) : \" + new_str)"
   ]
  },
  {
   "cell_type": "markdown",
   "id": "27ddffbf",
   "metadata": {},
   "source": [
    "#  Python program to Find the size of a Tuple"
   ]
  },
  {
   "cell_type": "code",
   "execution_count": 16,
   "id": "8d9866a6",
   "metadata": {},
   "outputs": [
    {
     "name": "stdout",
     "output_type": "stream",
     "text": [
      "The first tuple is :\n",
      "('A', 1, 'B', 2, 'C', 3)\n",
      "Size of first tuple is : 88 bytes\n"
     ]
    }
   ],
   "source": [
    "import sys\n",
    "tuple_1 = (\"A\", 1, \"B\", 2, \"C\", 3)\n",
    "print(\"The first tuple is :\")\n",
    "print(tuple_1)\n",
    "print(\"Size of first tuple is : \" + str(sys.getsizeof(tuple_1)) + \" bytes\")"
   ]
  },
  {
   "cell_type": "markdown",
   "id": "06a50059",
   "metadata": {},
   "source": [
    "#   Python – Maximum and Minimum K elements in Tuple"
   ]
  },
  {
   "cell_type": "code",
   "execution_count": 19,
   "id": "a5989838",
   "metadata": {},
   "outputs": [
    {
     "name": "stdout",
     "output_type": "stream",
     "text": [
      "Enter an integer1\n",
      "The original tuple:  (13, 10, 23, 2, 5, 6, 12)\n",
      "Max and Min K elements :  (2, 23)\n"
     ]
    }
   ],
   "source": [
    "def Findel(tup,K):\n",
    "    result = []\n",
    "    test_tup = list(tup)\n",
    "    temp = sorted(tup)\n",
    "    for i, val in enumerate(temp):\n",
    "        if i < K or i >= len(temp) - K:\n",
    "            result.append(val)\n",
    "    result = tuple(result)\n",
    "    # printing result \n",
    "    print(\"Max and Min K elements : \",result)\n",
    "\n",
    "tup = (13, 10, 23, 2, 5, 6, 12)\n",
    "K = int(input(\"Enter an integer\"))\n",
    "print(\"The original tuple: \", tup)\n",
    "Findel(tup,K)"
   ]
  },
  {
   "cell_type": "markdown",
   "id": "5bf55663",
   "metadata": {},
   "source": [
    "# Python | Sort Python Dictionaries by Key or Value"
   ]
  },
  {
   "cell_type": "code",
   "execution_count": 2,
   "id": "40512846",
   "metadata": {},
   "outputs": [
    {
     "name": "stdout",
     "output_type": "stream",
     "text": [
      "key {2: 23, 1: 78, 5: 56, 6: 295, 10: 27}\n",
      "keys and values sorted\n",
      "(1, 78) (2, 23) (5, 56) (6, 295) (10, 27) "
     ]
    }
   ],
   "source": [
    "def diction():\n",
    "    key = {}\n",
    "    key[2] = 23\n",
    "    key[1] = 78\n",
    "    key[5] = 56\n",
    "    key[6] = 295\n",
    "    key[10] = 27\n",
    "    print(\"key\", key)\n",
    "    print(\"keys and values sorted\")\n",
    " \n",
    "    for i in sorted(key):\n",
    "        print((i, key[i]), end=\" \")\n",
    "def main():\n",
    "    diction()\n",
    "if __name__ == \"__main__\":\n",
    "    main()\n"
   ]
  },
  {
   "cell_type": "markdown",
   "id": "69e198a4",
   "metadata": {},
   "source": [
    "#  Python dictionary with keys having multiple inputs"
   ]
  },
  {
   "cell_type": "code",
   "execution_count": 3,
   "id": "7c802bfd",
   "metadata": {},
   "outputs": [
    {
     "name": "stdout",
     "output_type": "stream",
     "text": [
      "The dictionary are :\n",
      "{(50, 126, 80): 96, (52, 54, 11): 95}\n"
     ]
    }
   ],
   "source": [
    "my_dict = {}\n",
    "a, b, c = 50, 126, 80\n",
    "my_dict[a, b, c] = a + b - c\n",
    "a, b, c = 52, 54, 11\n",
    "my_dict[a, b, c] = a + b - c\n",
    "print(\"The dictionary are :\")\n",
    "print(my_dict)"
   ]
  },
  {
   "cell_type": "markdown",
   "id": "4443410b",
   "metadata": {},
   "source": [
    "#  Find the size of a Set in Python"
   ]
  },
  {
   "cell_type": "code",
   "execution_count": 5,
   "id": "24afd249",
   "metadata": {},
   "outputs": [
    {
     "name": "stdout",
     "output_type": "stream",
     "text": [
      "Size of Set1: 472bytes\n",
      "Size of Set2: 472bytes\n",
      "Size of Set3: 216bytes\n"
     ]
    }
   ],
   "source": [
    "import sys\n",
    "Set_1 = {\"Apple\", 1, \"Ball\", 2, \"Cat\", 3}\n",
    "Set_2 = {\"Harish\", \"Suba\", \"Aravindh\", \"Shastee\", \"Abi\", \"Kohli\"}\n",
    "Set_3 = {(1, \"Star\"), ( 2, \"Day\"), (3, \"Night\")}\n",
    "  \n",
    "print(\"Size of Set1: \" + str(sys.getsizeof(Set_1)) + \"bytes\")\n",
    "print(\"Size of Set2: \" + str(sys.getsizeof(Set_2)) + \"bytes\")\n",
    "print(\"Size of Set3: \" + str(sys.getsizeof(Set_3)) + \"bytes\")"
   ]
  },
  {
   "cell_type": "markdown",
   "id": "9b77a80d",
   "metadata": {},
   "source": [
    "#  Iterate over a set in Python"
   ]
  },
  {
   "cell_type": "code",
   "execution_count": 7,
   "id": "d6d7ecc5",
   "metadata": {},
   "outputs": [
    {
     "name": "stdout",
     "output_type": "stream",
     "text": [
      "A\n",
      "R\n",
      "S\n",
      "I\n",
      "H\n"
     ]
    }
   ],
   "source": [
    "test_set = set(\"HARISH\")\n",
    "for val in test_set:\n",
    "    print(val)"
   ]
  },
  {
   "cell_type": "markdown",
   "id": "61ceabbf",
   "metadata": {},
   "source": [
    "#  Assigning subsequent rows to matrix first row element"
   ]
  },
  {
   "cell_type": "code",
   "execution_count": 8,
   "id": "c8850fdb",
   "metadata": {},
   "outputs": [
    {
     "name": "stdout",
     "output_type": "stream",
     "text": [
      "my list :[[1, 2, 3], [4, 5, 6], [7, 8, 9], [10, 11, 12]]\n",
      "The matrix : {1: [4, 5, 6], 2: [7, 8, 9], 3: [10, 11, 12]}\n"
     ]
    }
   ],
   "source": [
    "my_list=[[1,2,3],[4,5,6],[7,8,9],[10,11,12]]\n",
    "print(\"my list :\"+str(my_list))\n",
    "result={my_list[0][val] : my_list[val+1] for val in range(len(my_list)-1)}\n",
    "print(\"The matrix : \" +str(result))"
   ]
  },
  {
   "cell_type": "markdown",
   "id": "f8540a10",
   "metadata": {},
   "source": [
    "#  Adding and Subtracting Matrices in Python"
   ]
  },
  {
   "cell_type": "code",
   "execution_count": 9,
   "id": "d9259110",
   "metadata": {},
   "outputs": [
    {
     "name": "stdout",
     "output_type": "stream",
     "text": [
      "elments in A\n",
      "[[10  5]\n",
      " [ 9  9]]\n",
      "elments in B\n",
      "[[4 4]\n",
      " [5 6]]\n",
      "addition of two matrix\n",
      "[[14  9]\n",
      " [14 15]]\n",
      "subtraction of two matrics\n",
      "[[6 1]\n",
      " [4 3]]\n"
     ]
    }
   ],
   "source": [
    "import numpy as np\n",
    "A = np.array([[10,5],[9,9]])\n",
    "B = np.array([[4,4],[5,6]])\n",
    "print(\"elments in A\")\n",
    "print(A)\n",
    "print(\"elments in B\")\n",
    "print(B)\n",
    "print(\"addition of two matrix\")\n",
    "print(np.add(A,B))\n",
    "print(\"subtraction of two matrics\")\n",
    "print(np.subtract(A,B))"
   ]
  },
  {
   "cell_type": "markdown",
   "id": "a0dcc673",
   "metadata": {},
   "source": [
    "#  how to get list of parameter name from a function in python"
   ]
  },
  {
   "cell_type": "code",
   "execution_count": 10,
   "id": "1e8d6ffd",
   "metadata": {},
   "outputs": [
    {
     "name": "stdout",
     "output_type": "stream",
     "text": [
      "(a, b, c)\n"
     ]
    }
   ],
   "source": [
    "def fun(a, b, c):\n",
    "    return a**b**c\n",
    "import inspect\n",
    "print(inspect.signature(fun))"
   ]
  },
  {
   "cell_type": "markdown",
   "id": "815500fa",
   "metadata": {},
   "source": [
    "#  how to Print Multiple Arguments in Python?"
   ]
  },
  {
   "cell_type": "code",
   "execution_count": 13,
   "id": "91867636",
   "metadata": {},
   "outputs": [
    {
     "name": "stdout",
     "output_type": "stream",
     "text": [
      "SPORTS DETAILS :  Virat Kohli - Cricket\n",
      "SPORTS DETAILS :  Sunil Chetri - Foot Ball\n",
      "SPORTS DETAILS :  Saina Nehwal - Badminton\n"
     ]
    }
   ],
   "source": [
    "def books(player_name, sports):\n",
    "    print(\"SPORTS DETAILS : \" , player_name + ' - ' + sports)\n",
    "books(\"Virat Kohli\" , \"Cricket\")\n",
    "books(\"Sunil Chetri\" , \"Foot Ball\")\n",
    "books(\"Saina Nehwal\" , \"Badminton\")"
   ]
  }
 ],
 "metadata": {
  "kernelspec": {
   "display_name": "Python 3 (ipykernel)",
   "language": "python",
   "name": "python3"
  },
  "language_info": {
   "codemirror_mode": {
    "name": "ipython",
    "version": 3
   },
   "file_extension": ".py",
   "mimetype": "text/x-python",
   "name": "python",
   "nbconvert_exporter": "python",
   "pygments_lexer": "ipython3",
   "version": "3.9.12"
  }
 },
 "nbformat": 4,
 "nbformat_minor": 5
}
